{
 "cells": [
  {
   "cell_type": "markdown",
   "metadata": {
    "collapsed": true
   },
   "source": [
    "Занятие 3. Иерархическая кластеризация.\n",
    "=============\n",
    "\n",
    "Полезные ссылки:\n",
    "* https://docs.scipy.org/doc/scipy-0.14.0/reference/cluster.hierarchy.html\n",
    "* https://joernhees.de/blog/2015/08/26/scipy-hierarchical-clustering-and-dendrogram-tutorial/\n",
    "* http://scikit-learn.org/stable/modules/clustering.html"
   ]
  },
  {
   "cell_type": "code",
   "execution_count": 10,
   "metadata": {},
   "outputs": [],
   "source": [
    "import numpy as np\n",
    "import pandas as pd\n",
    "import matplotlib\n",
    "import matplotlib.pyplot as plt\n",
    "matplotlib.style.use('ggplot')\n",
    "%matplotlib inline\n",
    "\n",
    "import os"
   ]
  },
  {
   "cell_type": "code",
   "execution_count": null,
   "metadata": {},
   "outputs": [],
   "source": []
  },
  {
   "cell_type": "markdown",
   "metadata": {},
   "source": [
    "Пример 1. Beverage\n",
    "--------"
   ]
  },
  {
   "cell_type": "code",
   "execution_count": 11,
   "metadata": {},
   "outputs": [],
   "source": [
    "os.chdir(\"C:/Users/Aleksandr/Desktop/CSC/Data Anal/lab 1/Shad_AD on Python_1_01/1_beverage/\")\n"
   ]
  },
  {
   "cell_type": "code",
   "execution_count": 12,
   "metadata": {},
   "outputs": [],
   "source": [
    "df = pd.read_csv(\"beverage_r.csv\", sep=\";\", index_col='numb.obs')"
   ]
  },
  {
   "cell_type": "code",
   "execution_count": 13,
   "metadata": {},
   "outputs": [
    {
     "data": {
      "text/html": [
       "<div>\n",
       "<style scoped>\n",
       "    .dataframe tbody tr th:only-of-type {\n",
       "        vertical-align: middle;\n",
       "    }\n",
       "\n",
       "    .dataframe tbody tr th {\n",
       "        vertical-align: top;\n",
       "    }\n",
       "\n",
       "    .dataframe thead th {\n",
       "        text-align: right;\n",
       "    }\n",
       "</style>\n",
       "<table border=\"1\" class=\"dataframe\">\n",
       "  <thead>\n",
       "    <tr style=\"text-align: right;\">\n",
       "      <th></th>\n",
       "      <th>COKE</th>\n",
       "      <th>D_COKE</th>\n",
       "      <th>D_PEPSI</th>\n",
       "      <th>D_7UP</th>\n",
       "      <th>PEPSI</th>\n",
       "      <th>SPRITE</th>\n",
       "      <th>TAB</th>\n",
       "      <th>SEVENUP</th>\n",
       "    </tr>\n",
       "    <tr>\n",
       "      <th>numb.obs</th>\n",
       "      <th></th>\n",
       "      <th></th>\n",
       "      <th></th>\n",
       "      <th></th>\n",
       "      <th></th>\n",
       "      <th></th>\n",
       "      <th></th>\n",
       "      <th></th>\n",
       "    </tr>\n",
       "  </thead>\n",
       "  <tbody>\n",
       "    <tr>\n",
       "      <th>1</th>\n",
       "      <td>1</td>\n",
       "      <td>0</td>\n",
       "      <td>0</td>\n",
       "      <td>0</td>\n",
       "      <td>1</td>\n",
       "      <td>1</td>\n",
       "      <td>0</td>\n",
       "      <td>1</td>\n",
       "    </tr>\n",
       "    <tr>\n",
       "      <th>2</th>\n",
       "      <td>1</td>\n",
       "      <td>0</td>\n",
       "      <td>0</td>\n",
       "      <td>0</td>\n",
       "      <td>1</td>\n",
       "      <td>0</td>\n",
       "      <td>0</td>\n",
       "      <td>0</td>\n",
       "    </tr>\n",
       "    <tr>\n",
       "      <th>3</th>\n",
       "      <td>1</td>\n",
       "      <td>0</td>\n",
       "      <td>0</td>\n",
       "      <td>0</td>\n",
       "      <td>1</td>\n",
       "      <td>0</td>\n",
       "      <td>0</td>\n",
       "      <td>0</td>\n",
       "    </tr>\n",
       "    <tr>\n",
       "      <th>4</th>\n",
       "      <td>0</td>\n",
       "      <td>1</td>\n",
       "      <td>0</td>\n",
       "      <td>1</td>\n",
       "      <td>0</td>\n",
       "      <td>0</td>\n",
       "      <td>1</td>\n",
       "      <td>0</td>\n",
       "    </tr>\n",
       "    <tr>\n",
       "      <th>5</th>\n",
       "      <td>1</td>\n",
       "      <td>0</td>\n",
       "      <td>0</td>\n",
       "      <td>0</td>\n",
       "      <td>1</td>\n",
       "      <td>0</td>\n",
       "      <td>0</td>\n",
       "      <td>0</td>\n",
       "    </tr>\n",
       "  </tbody>\n",
       "</table>\n",
       "</div>"
      ],
      "text/plain": [
       "          COKE  D_COKE  D_PEPSI  D_7UP  PEPSI  SPRITE  TAB  SEVENUP\n",
       "numb.obs                                                           \n",
       "1            1       0        0      0      1       1    0        1\n",
       "2            1       0        0      0      1       0    0        0\n",
       "3            1       0        0      0      1       0    0        0\n",
       "4            0       1        0      1      0       0    1        0\n",
       "5            1       0        0      0      1       0    0        0"
      ]
     },
     "execution_count": 13,
     "metadata": {},
     "output_type": "execute_result"
    }
   ],
   "source": [
    "df.head()\n"
   ]
  },
  {
   "cell_type": "markdown",
   "metadata": {},
   "source": [
    "Применим алгоритм иерархической кластеризации и построим дендрограмму. Все необходимые вычисления проводятся в функции linkage. Кроме самих данных ей нужно передать на вход два аргумента: метод вычисления расстояний между кластерами (```ward```, ```single```(default), ```complete```, ```average```, ```weighted```, ```centroid```, ```median```, ```weighted```) и метрику (```euclidean``` (default), ```cityblock``` aka Manhattan, ```hamming```, ```cosine```). См. [документацию]( https://docs.scipy.org/doc/scipy/reference/cluster.hierarchy.html)."
   ]
  },
  {
   "cell_type": "code",
   "execution_count": null,
   "metadata": {},
   "outputs": [],
   "source": []
  },
  {
   "cell_type": "code",
   "execution_count": 14,
   "metadata": {},
   "outputs": [
    {
     "name": "stdout",
     "output_type": "stream",
     "text": [
      "          COKE  D_COKE  D_PEPSI  D_7UP  PEPSI  SPRITE  TAB  SEVENUP\n",
      "numb.obs                                                           \n",
      "1            1       0        0      0      1       1    0        1\n",
      "2            1       0        0      0      1       0    0        0\n",
      "3            1       0        0      0      1       0    0        0\n",
      "4            0       1        0      1      0       0    1        0\n",
      "5            1       0        0      0      1       0    0        0\n",
      "6            1       0        0      0      1       1    0        0\n",
      "7            0       1        1      1      0       0    1        0\n",
      "8            1       1        0      0      1       1    0        1\n",
      "9            1       1        0      0      0       1    1        1\n",
      "10           1       0        0      0      1       0    0        1\n",
      "11           1       0        0      0      1       1    0        0\n",
      "12           0       1        0      0      0       0    1        0\n",
      "13           0       0        1      1      0       1    0        1\n",
      "14           1       0        0      0      0       1    0        0\n",
      "15           0       1        1      0      0       0    1        0\n",
      "16           0       0        0      0      1       1    0        0\n",
      "17           0       1        0      0      0       1    0        0\n",
      "18           1       1        0      0      1       0    0        0\n",
      "19           1       0        0      0      0       0    0        1\n",
      "20           1       1        1      0      1       0    0        0\n",
      "21           1       0        0      0      1       0    0        0\n",
      "22           1       0        0      0      1       0    0        0\n",
      "23           0       1        0      1      0       0    1        0\n",
      "24           1       1        0      0      1       0    0        0\n",
      "25           0       1        1      1      0       0    0        0\n",
      "26           0       1        0      1      0       0    1        0\n",
      "27           0       1        0      0      0       0    1        0\n",
      "28           1       0        0      0      0       1    0        1\n",
      "29           1       0        0      0      0       1    0        0\n",
      "30           0       1        1      0      0       0    1        0\n",
      "31           1       0        0      0      1       0    0        1\n",
      "32           0       1        1      0      0       0    1        0\n",
      "33           1       0        0      0      1       0    0        1\n",
      "34           0       1        1      1      0       0    1        0\n"
     ]
    }
   ],
   "source": [
    "print(df)"
   ]
  },
  {
   "cell_type": "code",
   "execution_count": 15,
   "metadata": {},
   "outputs": [],
   "source": [
    "from scipy.cluster.hierarchy import dendrogram, linkage, fcluster\n",
    "\n",
    "# Объект, в котором будет хранится информация о последовательном слиянии кластеров\n",
    "link = linkage(df, 'ward', 'euclidean')"
   ]
  },
  {
   "cell_type": "markdown",
   "metadata": {},
   "source": [
    "Объект ```link``` представляет собой матрицу ```(n-1) x 4```, где ```n``` -- число наблюдений. Каждая строка матрицы представляет собой результат слияния очередной пары кластеров с номерами ```link[i, 0]``` и ```link[i, 1]```. Новому кластеру присваивается номер ```n + i```. ```link[i, 2]``` содержит расстояние между объединяемыми кластерами, а ```link[i, 3]``` -- размер нового кластера."
   ]
  },
  {
   "cell_type": "code",
   "execution_count": 16,
   "metadata": {},
   "outputs": [
    {
     "data": {
      "text/plain": [
       "(33, 4)"
      ]
     },
     "execution_count": 16,
     "metadata": {},
     "output_type": "execute_result"
    }
   ],
   "source": [
    "type(link)\n",
    "link.shape\n",
    "\n"
   ]
  },
  {
   "cell_type": "code",
   "execution_count": 17,
   "metadata": {},
   "outputs": [
    {
     "data": {
      "text/plain": [
       "array([[ 5.        , 10.        ,  0.        ,  2.        ],\n",
       "       [ 1.        ,  2.        ,  0.        ,  2.        ],\n",
       "       [ 4.        , 35.        ,  0.        ,  3.        ],\n",
       "       [ 3.        , 22.        ,  0.        ,  2.        ],\n",
       "       [20.        , 36.        ,  0.        ,  4.        ],\n",
       "       [ 6.        , 33.        ,  0.        ,  2.        ],\n",
       "       [ 9.        , 30.        ,  0.        ,  2.        ],\n",
       "       [13.        , 28.        ,  0.        ,  2.        ],\n",
       "       [32.        , 40.        ,  0.        ,  3.        ],\n",
       "       [17.        , 23.        ,  0.        ,  2.        ],\n",
       "       [11.        , 26.        ,  0.        ,  2.        ],\n",
       "       [14.        , 29.        ,  0.        ,  2.        ],\n",
       "       [25.        , 37.        ,  0.        ,  3.        ],\n",
       "       [31.        , 45.        ,  0.        ,  3.        ],\n",
       "       [21.        , 38.        ,  0.        ,  5.        ],\n",
       "       [ 0.        ,  7.        ,  1.        ,  2.        ],\n",
       "       [18.        , 27.        ,  1.        ,  2.        ],\n",
       "       [15.        , 34.        ,  1.15470054,  3.        ],\n",
       "       [24.        , 39.        ,  1.15470054,  3.        ],\n",
       "       [19.        , 43.        ,  1.15470054,  3.        ],\n",
       "       [44.        , 46.        ,  1.54919334,  5.        ],\n",
       "       [41.        , 50.        ,  1.58113883,  4.        ],\n",
       "       [ 8.        , 49.        ,  1.73205081,  3.        ],\n",
       "       [47.        , 52.        ,  1.82574186,  6.        ],\n",
       "       [16.        , 51.        ,  1.91485422,  4.        ],\n",
       "       [42.        , 48.        ,  1.93649167,  8.        ],\n",
       "       [55.        , 56.        ,  2.12132034,  7.        ],\n",
       "       [58.        , 60.        ,  2.27636073, 11.        ],\n",
       "       [53.        , 59.        ,  2.33711814, 11.        ],\n",
       "       [54.        , 57.        ,  2.37920282, 11.        ],\n",
       "       [12.        , 61.        ,  2.446395  , 12.        ],\n",
       "       [62.        , 64.        ,  3.87646865, 23.        ],\n",
       "       [63.        , 65.        ,  7.09212963, 34.        ]])"
      ]
     },
     "execution_count": 17,
     "metadata": {},
     "output_type": "execute_result"
    }
   ],
   "source": [
    "link"
   ]
  },
  {
   "cell_type": "code",
   "execution_count": 18,
   "metadata": {},
   "outputs": [
    {
     "data": {
      "text/plain": [
       "array([[ 5., 10.,  0.,  2.],\n",
       "       [ 1.,  2.,  0.,  2.],\n",
       "       [ 4., 35.,  0.,  3.],\n",
       "       [ 3., 22.,  0.,  2.],\n",
       "       [20., 36.,  0.,  4.]])"
      ]
     },
     "execution_count": 18,
     "metadata": {},
     "output_type": "execute_result"
    }
   ],
   "source": [
    "link[:5]"
   ]
  },
  {
   "cell_type": "code",
   "execution_count": 19,
   "metadata": {},
   "outputs": [
    {
     "data": {
      "image/png": "[encoded data removed]",
      "text/plain": [
       "<Figure size 432x288 with 1 Axes>"
      ]
     },
     "metadata": {
      "needs_background": "light"
     },
     "output_type": "display_data"
    }
   ],
   "source": [
    "# Функция для построения дендрограммы\n",
    "#  Пороговое значение определяется как 0.7*max(Z[:,2]).\n",
    "dn = dendrogram(link)"
   ]
  },
  {
   "cell_type": "markdown",
   "metadata": {},
   "source": [
    "Алгоритм подкрасил в дендрограмме два кластера, но здесь скорее кластера всё-таки три. Теперь хочется посмотреть, какими характеристиками различаются наши кластеры.\n",
    "\n",
    "Сначала добавим к данным колонку ```cluster```, в которую запишем номер кластера, в которую попал объект. Это сделаем с помощью функции ```fcluster```. В качестве первого аргумента передаём объект ```linkage```, полученный выше. Третьим аргументом ```criterion``` передаём критерий для разбиения на кластеры (```distance``` для остановки разбиения по расстоянию между кластерами и ```maxclust``` для разбиения по заданному числу кластеров). Вторым же аргументом является либо пороговое значение для расстояния между кластерами, либо количество кластеров, в зависимости от аргумента ```criterion```."
   ]
  },
  {
   "cell_type": "code",
   "execution_count": 20,
   "metadata": {},
   "outputs": [
    {
     "data": {
      "image/png": "[encoded data removed]",
      "text/plain": [
       "<Figure size 432x288 with 1 Axes>"
      ]
     },
     "metadata": {
      "needs_background": "light"
     },
     "output_type": "display_data"
    }
   ],
   "source": [
    "# Функция для построения дендрограммы\n",
    "#  Убираем автоматическое определение числа кластеров\n",
    "dn = dendrogram(link, color_threshold = -1)\n",
    "\n"
   ]
  },
  {
   "cell_type": "code",
   "execution_count": 21,
   "metadata": {},
   "outputs": [],
   "source": [
    "# Останавливаем объединение, если расстояние между кластерами превышает 3\n",
    "df['cluster'] = fcluster(link, 3, criterion='distance')"
   ]
  },
  {
   "cell_type": "markdown",
   "metadata": {},
   "source": [
    "Теперь вычислим средние значения всех характеристик, сгруппировав данные по номеру кластера. Используем стандартную конструкцию: вызов метода ```groupby``` с последующим применением группирующей функции."
   ]
  },
  {
   "cell_type": "code",
   "execution_count": 22,
   "metadata": {},
   "outputs": [
    {
     "data": {
      "text/html": [
       "<div>\n",
       "<style scoped>\n",
       "    .dataframe tbody tr th:only-of-type {\n",
       "        vertical-align: middle;\n",
       "    }\n",
       "\n",
       "    .dataframe tbody tr th {\n",
       "        vertical-align: top;\n",
       "    }\n",
       "\n",
       "    .dataframe thead th {\n",
       "        text-align: right;\n",
       "    }\n",
       "</style>\n",
       "<table border=\"1\" class=\"dataframe\">\n",
       "  <thead>\n",
       "    <tr style=\"text-align: right;\">\n",
       "      <th></th>\n",
       "      <th>COKE</th>\n",
       "      <th>D_COKE</th>\n",
       "      <th>D_PEPSI</th>\n",
       "      <th>D_7UP</th>\n",
       "      <th>PEPSI</th>\n",
       "      <th>SPRITE</th>\n",
       "      <th>TAB</th>\n",
       "      <th>SEVENUP</th>\n",
       "    </tr>\n",
       "    <tr>\n",
       "      <th>cluster</th>\n",
       "      <th></th>\n",
       "      <th></th>\n",
       "      <th></th>\n",
       "      <th></th>\n",
       "      <th></th>\n",
       "      <th></th>\n",
       "      <th></th>\n",
       "      <th></th>\n",
       "    </tr>\n",
       "  </thead>\n",
       "  <tbody>\n",
       "    <tr>\n",
       "      <th>1</th>\n",
       "      <td>0.00</td>\n",
       "      <td>1.000000</td>\n",
       "      <td>0.545455</td>\n",
       "      <td>0.545455</td>\n",
       "      <td>0.000000</td>\n",
       "      <td>0.000000</td>\n",
       "      <td>0.909091</td>\n",
       "      <td>0.000000</td>\n",
       "    </tr>\n",
       "    <tr>\n",
       "      <th>2</th>\n",
       "      <td>1.00</td>\n",
       "      <td>0.272727</td>\n",
       "      <td>0.090909</td>\n",
       "      <td>0.000000</td>\n",
       "      <td>1.000000</td>\n",
       "      <td>0.000000</td>\n",
       "      <td>0.000000</td>\n",
       "      <td>0.272727</td>\n",
       "    </tr>\n",
       "    <tr>\n",
       "      <th>3</th>\n",
       "      <td>0.75</td>\n",
       "      <td>0.250000</td>\n",
       "      <td>0.083333</td>\n",
       "      <td>0.083333</td>\n",
       "      <td>0.416667</td>\n",
       "      <td>0.916667</td>\n",
       "      <td>0.083333</td>\n",
       "      <td>0.500000</td>\n",
       "    </tr>\n",
       "  </tbody>\n",
       "</table>\n",
       "</div>"
      ],
      "text/plain": [
       "         COKE    D_COKE   D_PEPSI     D_7UP     PEPSI    SPRITE       TAB  \\\n",
       "cluster                                                                     \n",
       "1        0.00  1.000000  0.545455  0.545455  0.000000  0.000000  0.909091   \n",
       "2        1.00  0.272727  0.090909  0.000000  1.000000  0.000000  0.000000   \n",
       "3        0.75  0.250000  0.083333  0.083333  0.416667  0.916667  0.083333   \n",
       "\n",
       "          SEVENUP  \n",
       "cluster            \n",
       "1        0.000000  \n",
       "2        0.272727  \n",
       "3        0.500000  "
      ]
     },
     "execution_count": 22,
     "metadata": {},
     "output_type": "execute_result"
    }
   ],
   "source": [
    "df.groupby('cluster').mean()"
   ]
  },
  {
   "cell_type": "markdown",
   "metadata": {},
   "source": [
    "Также интересно узнать, сколько наблюдений попало в каждый кластер. Для этого также применяем вызов ```groupy``` с последующим применением метода ```size```."
   ]
  },
  {
   "cell_type": "code",
   "execution_count": 17,
   "metadata": {
    "scrolled": true
   },
   "outputs": [
    {
     "data": {
      "text/plain": [
       "cluster\n",
       "1    11\n",
       "2    11\n",
       "3    12\n",
       "dtype: int64"
      ]
     },
     "execution_count": 17,
     "metadata": {},
     "output_type": "execute_result"
    }
   ],
   "source": [
    "df.groupby('cluster').size()"
   ]
  },
  {
   "cell_type": "code",
   "execution_count": 18,
   "metadata": {},
   "outputs": [
    {
     "data": {
      "text/plain": [
       "array([ 4,  7, 12, 15, 23, 25, 26, 27, 30, 32, 34], dtype=int64)"
      ]
     },
     "execution_count": 18,
     "metadata": {},
     "output_type": "execute_result"
    }
   ],
   "source": [
    "#  Кто попал в 1-й кластер?\n",
    "df[df['cluster']==1].index.values\n"
   ]
  },
  {
   "cell_type": "code",
   "execution_count": null,
   "metadata": {},
   "outputs": [],
   "source": []
  },
  {
   "cell_type": "code",
   "execution_count": null,
   "metadata": {},
   "outputs": [],
   "source": []
  },
  {
   "cell_type": "markdown",
   "metadata": {},
   "source": [
    "**Каменистая осыпь**\n",
    "\n",
    "А можно было выбрать число кластеров не на глаз по дендрограмме, а автоматически, тем более если данных много? Можно. Построим график, носящий название \"каменистая осыпь\". Напомним, в матрице ```link``` во второй колонке хранятся расстояния между парами слитых кластеров. По построению, строки матрицы упорядочены по этой колонке."
   ]
  },
  {
   "cell_type": "code",
   "execution_count": 20,
   "metadata": {},
   "outputs": [
    {
     "data": {
      "text/plain": [
       "array([0.        , 0.        , 0.        , 0.        , 0.        ,\n",
       "       0.        , 0.        , 0.        , 0.        , 0.        ,\n",
       "       0.        , 0.        , 0.        , 0.        , 0.        ,\n",
       "       1.        , 1.        , 1.15470054, 1.15470054, 1.15470054,\n",
       "       1.54919334, 1.58113883, 1.73205081, 1.82574186, 1.91485422,\n",
       "       1.93649167, 2.12132034, 2.27636073, 2.33711814, 2.37920282,\n",
       "       2.446395  , 3.87646865, 7.09212963])"
      ]
     },
     "execution_count": 20,
     "metadata": {},
     "output_type": "execute_result"
    }
   ],
   "source": [
    "dist = link[:, 2]\n",
    "dist"
   ]
  },
  {
   "cell_type": "markdown",
   "metadata": {},
   "source": [
    "Таким образом, можно построить график зависимости расстояний между кластерами от шага слияния (обратного), и посмотреть, начиная с какого момента это расстояние перестанет значительно меняться."
   ]
  },
  {
   "cell_type": "code",
   "execution_count": 21,
   "metadata": {},
   "outputs": [
    {
     "data": {
      "text/plain": [
       "Text(22, 2.6, '4 clusters')"
      ]
     },
     "execution_count": 21,
     "metadata": {},
     "output_type": "execute_result"
    },
    {
     "data": {
      "image/png": "[encoded data removed]",
      "text/plain": [
       "<Figure size 432x288 with 1 Axes>"
      ]
     },
     "metadata": {
      "needs_background": "light"
     },
     "output_type": "display_data"
    }
   ],
   "source": [
    "dist_rev = dist[::-1]\n",
    "idxs = range(1, len(dist) + 1)\n",
    "plt.plot(idxs, dist_rev, marker='o')\n",
    "plt.title('Distance between merged clusters')\n",
    "plt.xlabel('Step')\n",
    "plt.ylabel('Distance')\n",
    "plt.axhline(3, c='k', linestyle='dashed')\n",
    "plt.axhline(2.52, c='k', linestyle='dashed')\n",
    "plt.text(25, 3.1, '3 clusters')\n",
    "plt.text(22, 2.6, '4 clusters')"
   ]
  },
  {
   "cell_type": "markdown",
   "metadata": {},
   "source": [
    "Из картинки видно, что если мы остановимся объединять кластеры при расстоянии равном примерно 2.5, мы получим 4 кластера, а при равном 3 -- 3 кластера.\n",
    "\n",
    "Однако строго говоря, этот способ всё ещё немасштабируем для больших данных. Но его можно просто поправить, включая в график не все подряд слияния, а только несколько последних. И если уж мы совсем хотим автомаизировать процесс, то факт сильного изменения расстояний между кластерами можно фиксировать с помощью производной: там где график выходит на горизонталь, производная станет почти нулём."
   ]
  },
  {
   "cell_type": "markdown",
   "metadata": {},
   "source": [
    "Пример 2. Кластеризация претендентов.\n",
    "----------------------"
   ]
  },
  {
   "cell_type": "code",
   "execution_count": 23,
   "metadata": {
    "scrolled": true
   },
   "outputs": [],
   "source": [
    "os.chdir(\"C:/Users/Aleksandr/Desktop/CSC/Data Anal/lab 1/Shad_AD on Python_1_01/2_pretendent\")"
   ]
  },
  {
   "cell_type": "code",
   "execution_count": 24,
   "metadata": {},
   "outputs": [
    {
     "data": {
      "text/html": [
       "<div>\n",
       "<style scoped>\n",
       "    .dataframe tbody tr th:only-of-type {\n",
       "        vertical-align: middle;\n",
       "    }\n",
       "\n",
       "    .dataframe tbody tr th {\n",
       "        vertical-align: top;\n",
       "    }\n",
       "\n",
       "    .dataframe thead th {\n",
       "        text-align: right;\n",
       "    }\n",
       "</style>\n",
       "<table border=\"1\" class=\"dataframe\">\n",
       "  <thead>\n",
       "    <tr style=\"text-align: right;\">\n",
       "      <th></th>\n",
       "      <th>NR</th>\n",
       "      <th>T1</th>\n",
       "      <th>T2</th>\n",
       "      <th>T3</th>\n",
       "      <th>T4</th>\n",
       "      <th>T5</th>\n",
       "      <th>T6</th>\n",
       "      <th>T7</th>\n",
       "      <th>T8</th>\n",
       "      <th>T9</th>\n",
       "      <th>T10</th>\n",
       "    </tr>\n",
       "    <tr>\n",
       "      <th>NAME</th>\n",
       "      <th></th>\n",
       "      <th></th>\n",
       "      <th></th>\n",
       "      <th></th>\n",
       "      <th></th>\n",
       "      <th></th>\n",
       "      <th></th>\n",
       "      <th></th>\n",
       "      <th></th>\n",
       "      <th></th>\n",
       "      <th></th>\n",
       "    </tr>\n",
       "  </thead>\n",
       "  <tbody>\n",
       "    <tr>\n",
       "      <th>Volker</th>\n",
       "      <td>1</td>\n",
       "      <td>10</td>\n",
       "      <td>10</td>\n",
       "      <td>9</td>\n",
       "      <td>10</td>\n",
       "      <td>10</td>\n",
       "      <td>10</td>\n",
       "      <td>9</td>\n",
       "      <td>10</td>\n",
       "      <td>10</td>\n",
       "      <td>9</td>\n",
       "    </tr>\n",
       "    <tr>\n",
       "      <th>Sigrid</th>\n",
       "      <td>2</td>\n",
       "      <td>10</td>\n",
       "      <td>10</td>\n",
       "      <td>4</td>\n",
       "      <td>10</td>\n",
       "      <td>5</td>\n",
       "      <td>5</td>\n",
       "      <td>4</td>\n",
       "      <td>5</td>\n",
       "      <td>4</td>\n",
       "      <td>3</td>\n",
       "    </tr>\n",
       "    <tr>\n",
       "      <th>Elmar</th>\n",
       "      <td>3</td>\n",
       "      <td>5</td>\n",
       "      <td>4</td>\n",
       "      <td>10</td>\n",
       "      <td>5</td>\n",
       "      <td>10</td>\n",
       "      <td>4</td>\n",
       "      <td>10</td>\n",
       "      <td>5</td>\n",
       "      <td>3</td>\n",
       "      <td>10</td>\n",
       "    </tr>\n",
       "    <tr>\n",
       "      <th>Peter</th>\n",
       "      <td>4</td>\n",
       "      <td>10</td>\n",
       "      <td>10</td>\n",
       "      <td>9</td>\n",
       "      <td>10</td>\n",
       "      <td>10</td>\n",
       "      <td>10</td>\n",
       "      <td>9</td>\n",
       "      <td>10</td>\n",
       "      <td>10</td>\n",
       "      <td>9</td>\n",
       "    </tr>\n",
       "    <tr>\n",
       "      <th>Otto</th>\n",
       "      <td>5</td>\n",
       "      <td>4</td>\n",
       "      <td>3</td>\n",
       "      <td>5</td>\n",
       "      <td>4</td>\n",
       "      <td>3</td>\n",
       "      <td>10</td>\n",
       "      <td>4</td>\n",
       "      <td>10</td>\n",
       "      <td>10</td>\n",
       "      <td>5</td>\n",
       "    </tr>\n",
       "  </tbody>\n",
       "</table>\n",
       "</div>"
      ],
      "text/plain": [
       "        NR  T1  T2  T3  T4  T5  T6  T7  T8  T9  T10\n",
       "NAME                                               \n",
       "Volker   1  10  10   9  10  10  10   9  10  10    9\n",
       "Sigrid   2  10  10   4  10   5   5   4   5   4    3\n",
       "Elmar    3   5   4  10   5  10   4  10   5   3   10\n",
       "Peter    4  10  10   9  10  10  10   9  10  10    9\n",
       "Otto     5   4   3   5   4   3  10   4  10  10    5"
      ]
     },
     "execution_count": 24,
     "metadata": {},
     "output_type": "execute_result"
    }
   ],
   "source": [
    "df = pd.read_csv('assess.dat', sep='\\t', index_col='NAME')\n",
    "df.head()"
   ]
  },
  {
   "cell_type": "code",
   "execution_count": 25,
   "metadata": {},
   "outputs": [],
   "source": [
    "# В колонке NR находится номер объекта, его нужно исключить из данных для кластеризации\n",
    "del df['NR']"
   ]
  },
  {
   "cell_type": "code",
   "execution_count": 26,
   "metadata": {
    "scrolled": false
   },
   "outputs": [
    {
     "data": {
      "image/png": "[encoded data removed]",
      "text/plain": [
       "<Figure size 432x288 with 1 Axes>"
      ]
     },
     "metadata": {
      "needs_background": "light"
     },
     "output_type": "display_data"
    }
   ],
   "source": [
    "link = linkage(df, 'ward', 'euclidean')\n",
    "dn = dendrogram(link)"
   ]
  },
  {
   "cell_type": "code",
   "execution_count": 27,
   "metadata": {},
   "outputs": [],
   "source": [
    "df['cluster'] = fcluster(link, 4, criterion='maxclust')"
   ]
  },
  {
   "cell_type": "code",
   "execution_count": 28,
   "metadata": {},
   "outputs": [
    {
     "data": {
      "text/html": [
       "<div>\n",
       "<style scoped>\n",
       "    .dataframe tbody tr th:only-of-type {\n",
       "        vertical-align: middle;\n",
       "    }\n",
       "\n",
       "    .dataframe tbody tr th {\n",
       "        vertical-align: top;\n",
       "    }\n",
       "\n",
       "    .dataframe thead th {\n",
       "        text-align: right;\n",
       "    }\n",
       "</style>\n",
       "<table border=\"1\" class=\"dataframe\">\n",
       "  <thead>\n",
       "    <tr style=\"text-align: right;\">\n",
       "      <th></th>\n",
       "      <th>T1</th>\n",
       "      <th>T2</th>\n",
       "      <th>T3</th>\n",
       "      <th>T4</th>\n",
       "      <th>T5</th>\n",
       "      <th>T6</th>\n",
       "      <th>T7</th>\n",
       "      <th>T8</th>\n",
       "      <th>T9</th>\n",
       "      <th>T10</th>\n",
       "    </tr>\n",
       "    <tr>\n",
       "      <th>cluster</th>\n",
       "      <th></th>\n",
       "      <th></th>\n",
       "      <th></th>\n",
       "      <th></th>\n",
       "      <th></th>\n",
       "      <th></th>\n",
       "      <th></th>\n",
       "      <th></th>\n",
       "      <th></th>\n",
       "      <th></th>\n",
       "    </tr>\n",
       "  </thead>\n",
       "  <tbody>\n",
       "    <tr>\n",
       "      <th>1</th>\n",
       "      <td>4.2</td>\n",
       "      <td>4.8</td>\n",
       "      <td>10.00</td>\n",
       "      <td>4.4</td>\n",
       "      <td>10.00</td>\n",
       "      <td>4.4</td>\n",
       "      <td>10.00</td>\n",
       "      <td>4.00</td>\n",
       "      <td>3.80</td>\n",
       "      <td>10.00</td>\n",
       "    </tr>\n",
       "    <tr>\n",
       "      <th>2</th>\n",
       "      <td>4.8</td>\n",
       "      <td>4.4</td>\n",
       "      <td>4.00</td>\n",
       "      <td>4.0</td>\n",
       "      <td>4.20</td>\n",
       "      <td>10.0</td>\n",
       "      <td>4.40</td>\n",
       "      <td>10.00</td>\n",
       "      <td>10.00</td>\n",
       "      <td>5.00</td>\n",
       "    </tr>\n",
       "    <tr>\n",
       "      <th>3</th>\n",
       "      <td>10.0</td>\n",
       "      <td>10.0</td>\n",
       "      <td>9.00</td>\n",
       "      <td>10.0</td>\n",
       "      <td>10.00</td>\n",
       "      <td>9.5</td>\n",
       "      <td>9.25</td>\n",
       "      <td>9.75</td>\n",
       "      <td>10.00</td>\n",
       "      <td>9.50</td>\n",
       "    </tr>\n",
       "    <tr>\n",
       "      <th>4</th>\n",
       "      <td>10.0</td>\n",
       "      <td>10.0</td>\n",
       "      <td>4.25</td>\n",
       "      <td>10.0</td>\n",
       "      <td>4.75</td>\n",
       "      <td>4.5</td>\n",
       "      <td>3.75</td>\n",
       "      <td>4.25</td>\n",
       "      <td>4.25</td>\n",
       "      <td>4.25</td>\n",
       "    </tr>\n",
       "  </tbody>\n",
       "</table>\n",
       "</div>"
      ],
      "text/plain": [
       "           T1    T2     T3    T4     T5    T6     T7     T8     T9    T10\n",
       "cluster                                                                  \n",
       "1         4.2   4.8  10.00   4.4  10.00   4.4  10.00   4.00   3.80  10.00\n",
       "2         4.8   4.4   4.00   4.0   4.20  10.0   4.40  10.00  10.00   5.00\n",
       "3        10.0  10.0   9.00  10.0  10.00   9.5   9.25   9.75  10.00   9.50\n",
       "4        10.0  10.0   4.25  10.0   4.75   4.5   3.75   4.25   4.25   4.25"
      ]
     },
     "execution_count": 28,
     "metadata": {},
     "output_type": "execute_result"
    }
   ],
   "source": [
    "df.groupby('cluster').mean()"
   ]
  },
  {
   "cell_type": "markdown",
   "metadata": {},
   "source": [
    "Пример 3. Потребление протеинов в Европе.\n",
    "------------------"
   ]
  },
  {
   "cell_type": "code",
   "execution_count": 34,
   "metadata": {},
   "outputs": [],
   "source": [
    "os.chdir(\"C:/Users/Aleksandr/Desktop/CSC/Data Anal/lab 1/Shad_AD on Python_1_01/3_Protein Consumption in Europe/\")\n"
   ]
  },
  {
   "cell_type": "code",
   "execution_count": 35,
   "metadata": {},
   "outputs": [
    {
     "data": {
      "text/html": [
       "<div>\n",
       "<style scoped>\n",
       "    .dataframe tbody tr th:only-of-type {\n",
       "        vertical-align: middle;\n",
       "    }\n",
       "\n",
       "    .dataframe tbody tr th {\n",
       "        vertical-align: top;\n",
       "    }\n",
       "\n",
       "    .dataframe thead th {\n",
       "        text-align: right;\n",
       "    }\n",
       "</style>\n",
       "<table border=\"1\" class=\"dataframe\">\n",
       "  <thead>\n",
       "    <tr style=\"text-align: right;\">\n",
       "      <th></th>\n",
       "      <th>RedMeat</th>\n",
       "      <th>WhiteMeat</th>\n",
       "      <th>Eggs</th>\n",
       "      <th>Milk</th>\n",
       "      <th>Fish</th>\n",
       "      <th>Cereals</th>\n",
       "      <th>Starch</th>\n",
       "      <th>Nuts</th>\n",
       "      <th>Fr&amp;Veg</th>\n",
       "    </tr>\n",
       "    <tr>\n",
       "      <th>Country</th>\n",
       "      <th></th>\n",
       "      <th></th>\n",
       "      <th></th>\n",
       "      <th></th>\n",
       "      <th></th>\n",
       "      <th></th>\n",
       "      <th></th>\n",
       "      <th></th>\n",
       "      <th></th>\n",
       "    </tr>\n",
       "  </thead>\n",
       "  <tbody>\n",
       "    <tr>\n",
       "      <th>Albania</th>\n",
       "      <td>10.1</td>\n",
       "      <td>1.4</td>\n",
       "      <td>0.5</td>\n",
       "      <td>8.9</td>\n",
       "      <td>0.2</td>\n",
       "      <td>42.3</td>\n",
       "      <td>0.6</td>\n",
       "      <td>5.5</td>\n",
       "      <td>1.7</td>\n",
       "    </tr>\n",
       "    <tr>\n",
       "      <th>Austria</th>\n",
       "      <td>8.9</td>\n",
       "      <td>14.0</td>\n",
       "      <td>4.3</td>\n",
       "      <td>19.9</td>\n",
       "      <td>2.1</td>\n",
       "      <td>28.0</td>\n",
       "      <td>3.6</td>\n",
       "      <td>1.3</td>\n",
       "      <td>4.3</td>\n",
       "    </tr>\n",
       "    <tr>\n",
       "      <th>Belgium</th>\n",
       "      <td>13.5</td>\n",
       "      <td>9.3</td>\n",
       "      <td>4.1</td>\n",
       "      <td>17.5</td>\n",
       "      <td>4.5</td>\n",
       "      <td>26.6</td>\n",
       "      <td>5.7</td>\n",
       "      <td>2.1</td>\n",
       "      <td>4.0</td>\n",
       "    </tr>\n",
       "    <tr>\n",
       "      <th>Bulgaria</th>\n",
       "      <td>7.8</td>\n",
       "      <td>6.0</td>\n",
       "      <td>1.6</td>\n",
       "      <td>8.3</td>\n",
       "      <td>1.2</td>\n",
       "      <td>56.7</td>\n",
       "      <td>1.1</td>\n",
       "      <td>3.7</td>\n",
       "      <td>4.2</td>\n",
       "    </tr>\n",
       "    <tr>\n",
       "      <th>Czechoslovakia</th>\n",
       "      <td>9.7</td>\n",
       "      <td>11.4</td>\n",
       "      <td>2.8</td>\n",
       "      <td>12.5</td>\n",
       "      <td>2.0</td>\n",
       "      <td>34.3</td>\n",
       "      <td>5.0</td>\n",
       "      <td>1.1</td>\n",
       "      <td>4.0</td>\n",
       "    </tr>\n",
       "  </tbody>\n",
       "</table>\n",
       "</div>"
      ],
      "text/plain": [
       "                RedMeat  WhiteMeat  Eggs  Milk  Fish  Cereals  Starch  Nuts  \\\n",
       "Country                                                                       \n",
       "Albania            10.1        1.4   0.5   8.9   0.2     42.3     0.6   5.5   \n",
       "Austria             8.9       14.0   4.3  19.9   2.1     28.0     3.6   1.3   \n",
       "Belgium            13.5        9.3   4.1  17.5   4.5     26.6     5.7   2.1   \n",
       "Bulgaria            7.8        6.0   1.6   8.3   1.2     56.7     1.1   3.7   \n",
       "Czechoslovakia      9.7       11.4   2.8  12.5   2.0     34.3     5.0   1.1   \n",
       "\n",
       "                Fr&Veg  \n",
       "Country                 \n",
       "Albania            1.7  \n",
       "Austria            4.3  \n",
       "Belgium            4.0  \n",
       "Bulgaria           4.2  \n",
       "Czechoslovakia     4.0  "
      ]
     },
     "execution_count": 35,
     "metadata": {},
     "output_type": "execute_result"
    }
   ],
   "source": [
    "df = pd.read_csv('Protein Consumption in Europe.csv', sep=';', decimal=',', index_col='Country')\n",
    "df.head()"
   ]
  },
  {
   "cell_type": "markdown",
   "metadata": {},
   "source": [
    "Стандартизация данных\n",
    "--------------------\n",
    "В этом примере данные, которые мы собираемся кластеризовать, хотя и находятся в одних и тех же единицах измерения, но местами они различаются почти на два порядка, так что будет не лишним их стандартизировать перед анализом. \n",
    "\n",
    "В модуле preprocessing библиотеки sklearn реализованы несколько классов стандартизации данных:\n",
    "* StandardScaler -- приведение к нулевому среднему и единичной дисперсии.\n",
    "* MinMaxScaler -- приведение данных к отрезку [0, 1].\n",
    "* MaxAbsScaler -- приведение к [-1, 1] (рекомендуется для разреженных данных).\n",
    "\n",
    "Замечание. У этих методов есть чуть более лёгкие методы-аналоги ```scale```, ```minmax_scale``` и ```maxabs_scale```, которые делают практически то же самое, но для supervized задач машинного обучения, которые встретяся позже, удобнее использовать именно изначально указанные классы.\n",
    "\n",
    "Процесс стандартизации выглядит так:"
   ]
  },
  {
   "cell_type": "code",
   "execution_count": 36,
   "metadata": {},
   "outputs": [],
   "source": [
    "from sklearn import preprocessing\n",
    "\n",
    "# Выбираем один из вариантов нормализации\n",
    "\n",
    "norm = preprocessing.StandardScaler()\n",
    "# norm = preprocessing.MaxAbsScaler()\n",
    "# norm = preprocessing.MinMaxScaler()\n",
    "\n",
    "# вычисляем параметры нормализации (они будут сохранены внутри объекта norm)\n",
    "norm.fit(df)\n",
    "# преобразовываем данные с параметрами\n",
    "X = norm.transform(df)\n",
    "# Полученный на предыдущем шаге объект X -- это матрица класса numpy.ndarray.\n",
    "# Глазами на неё смотреть неудобно, лучше преобразовать её в объект класса pandas.DataFrame.\n",
    "X = pd.DataFrame(X, index=df.index, columns=df.columns)"
   ]
  },
  {
   "cell_type": "code",
   "execution_count": 37,
   "metadata": {},
   "outputs": [
    {
     "data": {
      "text/html": [
       "<div>\n",
       "<style scoped>\n",
       "    .dataframe tbody tr th:only-of-type {\n",
       "        vertical-align: middle;\n",
       "    }\n",
       "\n",
       "    .dataframe tbody tr th {\n",
       "        vertical-align: top;\n",
       "    }\n",
       "\n",
       "    .dataframe thead th {\n",
       "        text-align: right;\n",
       "    }\n",
       "</style>\n",
       "<table border=\"1\" class=\"dataframe\">\n",
       "  <thead>\n",
       "    <tr style=\"text-align: right;\">\n",
       "      <th></th>\n",
       "      <th>RedMeat</th>\n",
       "      <th>WhiteMeat</th>\n",
       "      <th>Eggs</th>\n",
       "      <th>Milk</th>\n",
       "      <th>Fish</th>\n",
       "      <th>Cereals</th>\n",
       "      <th>Starch</th>\n",
       "      <th>Nuts</th>\n",
       "      <th>Fr&amp;Veg</th>\n",
       "    </tr>\n",
       "    <tr>\n",
       "      <th>Country</th>\n",
       "      <th></th>\n",
       "      <th></th>\n",
       "      <th></th>\n",
       "      <th></th>\n",
       "      <th></th>\n",
       "      <th></th>\n",
       "      <th></th>\n",
       "      <th></th>\n",
       "      <th></th>\n",
       "    </tr>\n",
       "  </thead>\n",
       "  <tbody>\n",
       "    <tr>\n",
       "      <th>Albania</th>\n",
       "      <td>0.082941</td>\n",
       "      <td>-1.794750</td>\n",
       "      <td>-2.224584</td>\n",
       "      <td>-1.179570</td>\n",
       "      <td>-1.225033</td>\n",
       "      <td>0.934804</td>\n",
       "      <td>-2.295965</td>\n",
       "      <td>1.247968</td>\n",
       "      <td>-1.378251</td>\n",
       "    </tr>\n",
       "    <tr>\n",
       "      <th>Austria</th>\n",
       "      <td>-0.282974</td>\n",
       "      <td>1.686446</td>\n",
       "      <td>1.245621</td>\n",
       "      <td>0.400468</td>\n",
       "      <td>-0.655111</td>\n",
       "      <td>-0.395051</td>\n",
       "      <td>-0.422218</td>\n",
       "      <td>-0.910790</td>\n",
       "      <td>0.092789</td>\n",
       "    </tr>\n",
       "    <tr>\n",
       "      <th>Belgium</th>\n",
       "      <td>1.119699</td>\n",
       "      <td>0.387905</td>\n",
       "      <td>1.062979</td>\n",
       "      <td>0.055732</td>\n",
       "      <td>0.064791</td>\n",
       "      <td>-0.525246</td>\n",
       "      <td>0.889405</td>\n",
       "      <td>-0.499598</td>\n",
       "      <td>-0.076947</td>\n",
       "    </tr>\n",
       "    <tr>\n",
       "      <th>Bulgaria</th>\n",
       "      <td>-0.618396</td>\n",
       "      <td>-0.523837</td>\n",
       "      <td>-1.220051</td>\n",
       "      <td>-1.265754</td>\n",
       "      <td>-0.925074</td>\n",
       "      <td>2.273959</td>\n",
       "      <td>-1.983674</td>\n",
       "      <td>0.322786</td>\n",
       "      <td>0.036210</td>\n",
       "    </tr>\n",
       "    <tr>\n",
       "      <th>Czechoslovakia</th>\n",
       "      <td>-0.039031</td>\n",
       "      <td>0.968104</td>\n",
       "      <td>-0.124197</td>\n",
       "      <td>-0.662467</td>\n",
       "      <td>-0.685107</td>\n",
       "      <td>0.190830</td>\n",
       "      <td>0.452198</td>\n",
       "      <td>-1.013588</td>\n",
       "      <td>-0.076947</td>\n",
       "    </tr>\n",
       "  </tbody>\n",
       "</table>\n",
       "</div>"
      ],
      "text/plain": [
       "                 RedMeat  WhiteMeat      Eggs      Milk      Fish   Cereals  \\\n",
       "Country                                                                       \n",
       "Albania         0.082941  -1.794750 -2.224584 -1.179570 -1.225033  0.934804   \n",
       "Austria        -0.282974   1.686446  1.245621  0.400468 -0.655111 -0.395051   \n",
       "Belgium         1.119699   0.387905  1.062979  0.055732  0.064791 -0.525246   \n",
       "Bulgaria       -0.618396  -0.523837 -1.220051 -1.265754 -0.925074  2.273959   \n",
       "Czechoslovakia -0.039031   0.968104 -0.124197 -0.662467 -0.685107  0.190830   \n",
       "\n",
       "                  Starch      Nuts    Fr&Veg  \n",
       "Country                                       \n",
       "Albania        -2.295965  1.247968 -1.378251  \n",
       "Austria        -0.422218 -0.910790  0.092789  \n",
       "Belgium         0.889405 -0.499598 -0.076947  \n",
       "Bulgaria       -1.983674  0.322786  0.036210  \n",
       "Czechoslovakia  0.452198 -1.013588 -0.076947  "
      ]
     },
     "execution_count": 37,
     "metadata": {},
     "output_type": "execute_result"
    }
   ],
   "source": [
    "X.head()"
   ]
  },
  {
   "cell_type": "code",
   "execution_count": 38,
   "metadata": {},
   "outputs": [
    {
     "data": {
      "image/png": "[encoded data removed]",
      "text/plain": [
       "<Figure size 432x288 with 1 Axes>"
      ]
     },
     "metadata": {
      "needs_background": "light"
     },
     "output_type": "display_data"
    }
   ],
   "source": [
    "link = linkage(X, 'ward', 'euclidean')\n",
    "dn = dendrogram(link,\n",
    "                # массив с названиями объектов для подписи по оси X\n",
    "                labels=X.index.tolist(),\n",
    "                # опция для более красивого отображения слишком ветввистой дендрограммы\n",
    "                truncate_mode='lastp',\n",
    "                # повернуть подписи вертикально\n",
    "                color_threshold=5,\n",
    "                leaf_rotation=90.)"
   ]
  },
  {
   "cell_type": "code",
   "execution_count": 39,
   "metadata": {},
   "outputs": [],
   "source": [
    "df['cluster'] = fcluster(link, 5, criterion='distance')"
   ]
  },
  {
   "cell_type": "code",
   "execution_count": 40,
   "metadata": {},
   "outputs": [
    {
     "data": {
      "text/html": [
       "<div>\n",
       "<style scoped>\n",
       "    .dataframe tbody tr th:only-of-type {\n",
       "        vertical-align: middle;\n",
       "    }\n",
       "\n",
       "    .dataframe tbody tr th {\n",
       "        vertical-align: top;\n",
       "    }\n",
       "\n",
       "    .dataframe thead th {\n",
       "        text-align: right;\n",
       "    }\n",
       "</style>\n",
       "<table border=\"1\" class=\"dataframe\">\n",
       "  <thead>\n",
       "    <tr style=\"text-align: right;\">\n",
       "      <th></th>\n",
       "      <th>RedMeat</th>\n",
       "      <th>WhiteMeat</th>\n",
       "      <th>Eggs</th>\n",
       "      <th>Milk</th>\n",
       "      <th>Fish</th>\n",
       "      <th>Cereals</th>\n",
       "      <th>Starch</th>\n",
       "      <th>Nuts</th>\n",
       "      <th>Fr&amp;Veg</th>\n",
       "    </tr>\n",
       "    <tr>\n",
       "      <th>cluster</th>\n",
       "      <th></th>\n",
       "      <th></th>\n",
       "      <th></th>\n",
       "      <th></th>\n",
       "      <th></th>\n",
       "      <th></th>\n",
       "      <th></th>\n",
       "      <th></th>\n",
       "      <th></th>\n",
       "    </tr>\n",
       "  </thead>\n",
       "  <tbody>\n",
       "    <tr>\n",
       "      <th>1</th>\n",
       "      <td>7.9200</td>\n",
       "      <td>10.0400</td>\n",
       "      <td>2.8400</td>\n",
       "      <td>13.8400</td>\n",
       "      <td>2.740</td>\n",
       "      <td>35.740</td>\n",
       "      <td>5.56</td>\n",
       "      <td>2.5400</td>\n",
       "      <td>4.260</td>\n",
       "    </tr>\n",
       "    <tr>\n",
       "      <th>2</th>\n",
       "      <td>9.8500</td>\n",
       "      <td>7.0500</td>\n",
       "      <td>3.1500</td>\n",
       "      <td>26.6750</td>\n",
       "      <td>8.225</td>\n",
       "      <td>22.675</td>\n",
       "      <td>4.55</td>\n",
       "      <td>1.1750</td>\n",
       "      <td>2.125</td>\n",
       "    </tr>\n",
       "    <tr>\n",
       "      <th>3</th>\n",
       "      <td>13.2125</td>\n",
       "      <td>10.6375</td>\n",
       "      <td>3.9875</td>\n",
       "      <td>21.1625</td>\n",
       "      <td>3.375</td>\n",
       "      <td>24.700</td>\n",
       "      <td>4.65</td>\n",
       "      <td>2.0625</td>\n",
       "      <td>4.175</td>\n",
       "    </tr>\n",
       "    <tr>\n",
       "      <th>4</th>\n",
       "      <td>7.1250</td>\n",
       "      <td>4.6750</td>\n",
       "      <td>1.2000</td>\n",
       "      <td>9.4500</td>\n",
       "      <td>0.750</td>\n",
       "      <td>51.125</td>\n",
       "      <td>1.95</td>\n",
       "      <td>5.0500</td>\n",
       "      <td>2.975</td>\n",
       "    </tr>\n",
       "    <tr>\n",
       "      <th>5</th>\n",
       "      <td>9.6000</td>\n",
       "      <td>4.0500</td>\n",
       "      <td>2.8500</td>\n",
       "      <td>15.6500</td>\n",
       "      <td>4.650</td>\n",
       "      <td>39.250</td>\n",
       "      <td>2.15</td>\n",
       "      <td>6.0500</td>\n",
       "      <td>6.600</td>\n",
       "    </tr>\n",
       "    <tr>\n",
       "      <th>6</th>\n",
       "      <td>6.6500</td>\n",
       "      <td>3.5500</td>\n",
       "      <td>2.1000</td>\n",
       "      <td>6.7500</td>\n",
       "      <td>10.600</td>\n",
       "      <td>28.100</td>\n",
       "      <td>5.80</td>\n",
       "      <td>5.3000</td>\n",
       "      <td>7.550</td>\n",
       "    </tr>\n",
       "  </tbody>\n",
       "</table>\n",
       "</div>"
      ],
      "text/plain": [
       "         RedMeat  WhiteMeat    Eggs     Milk    Fish  Cereals  Starch    Nuts  \\\n",
       "cluster                                                                         \n",
       "1         7.9200    10.0400  2.8400  13.8400   2.740   35.740    5.56  2.5400   \n",
       "2         9.8500     7.0500  3.1500  26.6750   8.225   22.675    4.55  1.1750   \n",
       "3        13.2125    10.6375  3.9875  21.1625   3.375   24.700    4.65  2.0625   \n",
       "4         7.1250     4.6750  1.2000   9.4500   0.750   51.125    1.95  5.0500   \n",
       "5         9.6000     4.0500  2.8500  15.6500   4.650   39.250    2.15  6.0500   \n",
       "6         6.6500     3.5500  2.1000   6.7500  10.600   28.100    5.80  5.3000   \n",
       "\n",
       "         Fr&Veg  \n",
       "cluster          \n",
       "1         4.260  \n",
       "2         2.125  \n",
       "3         4.175  \n",
       "4         2.975  \n",
       "5         6.600  \n",
       "6         7.550  "
      ]
     },
     "execution_count": 40,
     "metadata": {},
     "output_type": "execute_result"
    }
   ],
   "source": [
    "df.groupby('cluster').mean()"
   ]
  },
  {
   "cell_type": "code",
   "execution_count": null,
   "metadata": {
    "collapsed": true
   },
   "outputs": [],
   "source": []
  }
 ],
 "metadata": {
  "kernelspec": {
   "display_name": "Python 3",
   "language": "python",
   "name": "python3"
  },
  "language_info": {
   "codemirror_mode": {
    "name": "ipython",
    "version": 3
   },
   "file_extension": ".py",
   "mimetype": "text/x-python",
   "name": "python",
   "nbconvert_exporter": "python",
   "pygments_lexer": "ipython3",
   "version": "3.7.1"
  }
 },
 "nbformat": 4,
 "nbformat_minor": 2
}
